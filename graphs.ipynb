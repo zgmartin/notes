{
 "cells": [
  {
   "cell_type": "code",
   "execution_count": 25,
   "metadata": {},
   "outputs": [],
   "source": [
    "class Node:\n",
    "    def __init__(self, name):\n",
    "        self.name = name\n",
    "        self.edges = {}\n",
    "        self.visited = False\n",
    "        \n",
    "    def add_edge(self, name, weight):\n",
    "        self.edges[name] = weight\n",
    "        \n",
    "    def __str__(self):\n",
    "        return str(self.name) + ':' + str(self.edges)"
   ]
  },
  {
   "cell_type": "code",
   "execution_count": 36,
   "metadata": {},
   "outputs": [],
   "source": [
    "from collections import deque\n",
    "import time\n",
    "\n",
    "class Graph:\n",
    "    def __init__(self, directed=False):\n",
    "        self.nodes = {}\n",
    "        self.directed = directed\n",
    "        \n",
    "    def add_edge(self, _from, to, weight):\n",
    "        if _from not in self.nodes: \n",
    "            self.nodes[_from] = Node(_from)\n",
    "        self.nodes[_from].add_edge(to, weight)\n",
    "        \n",
    "        if not self.directed:\n",
    "            if to not in self.nodes: \n",
    "                self.nodes[to] = Node(to)\n",
    "            self.nodes[to].add_edge(_from, weight)\n",
    "    \n",
    "    def __str__(self):\n",
    "        string = ''\n",
    "        for item in self.nodes.values():\n",
    "            string += str(item) + '\\n'\n",
    "        return string\n",
    "    \n",
    "    def breadth_search(self, start):\n",
    "        queue = deque()\n",
    "        queue.append(self.nodes[start])\n",
    "        while len(queue) is not 0:\n",
    "            current = queue.popleft()\n",
    "            print(current)\n",
    "            for item in current.edges:\n",
    "                node = self.nodes[item]\n",
    "                if node.visited is False and node not in queue:\n",
    "                    queue.append(node)\n",
    "                    time.sleep(1)\n",
    "            current.visited = True\n",
    "            #for i in queue: print(i)"
   ]
  },
  {
   "cell_type": "code",
   "execution_count": 37,
   "metadata": {},
   "outputs": [],
   "source": [
    "g = Graph(directed=True)"
   ]
  },
  {
   "cell_type": "code",
   "execution_count": 38,
   "metadata": {},
   "outputs": [],
   "source": [
    "g.add_edge('Ajo','Bordo',50)\n",
    "g.add_edge('Ajo','Danza',80)\n",
    "\n",
    "g.add_edge('Bordo','Danza',90)\n",
    "g.add_edge('Bordo','Colina',60)\n",
    "\n",
    "g.add_edge('Danza','Colina',20)\n",
    "g.add_edge('Danza','Erizo',70)\n",
    "\n",
    "g.add_edge('Colina','Erizo',40)\n",
    "\n",
    "g.add_edge('Erizo','Bordo',50)"
   ]
  },
  {
   "cell_type": "code",
   "execution_count": 39,
   "metadata": {},
   "outputs": [
    {
     "name": "stdout",
     "output_type": "stream",
     "text": [
      "Ajo:{'Bordo': 50, 'Danza': 80}\n",
      "Bordo:{'Danza': 90, 'Colina': 60}\n",
      "Danza:{'Colina': 20, 'Erizo': 70}\n",
      "Colina:{'Erizo': 40}\n",
      "Erizo:{'Bordo': 50}\n",
      "\n"
     ]
    }
   ],
   "source": [
    "print(g)"
   ]
  },
  {
   "cell_type": "code",
   "execution_count": 40,
   "metadata": {},
   "outputs": [
    {
     "name": "stdout",
     "output_type": "stream",
     "text": [
      "Ajo:{'Bordo': 50, 'Danza': 80}\n",
      "Bordo:{'Danza': 90, 'Colina': 60}\n",
      "Danza:{'Colina': 20, 'Erizo': 70}\n",
      "Colina:{'Erizo': 40}\n",
      "Erizo:{'Bordo': 50}\n"
     ]
    }
   ],
   "source": [
    "g.breadth_search('Ajo')"
   ]
  },
  {
   "cell_type": "code",
   "execution_count": 163,
   "metadata": {},
   "outputs": [],
   "source": [
    "import heapq\n"
   ]
  },
  {
   "cell_type": "code",
   "execution_count": 165,
   "metadata": {},
   "outputs": [],
   "source": [
    "heapq?"
   ]
  },
  {
   "cell_type": "code",
   "execution_count": null,
   "metadata": {},
   "outputs": [],
   "source": []
  }
 ],
 "metadata": {
  "kernelspec": {
   "display_name": "Python 3",
   "language": "python",
   "name": "python3"
  },
  "language_info": {
   "codemirror_mode": {
    "name": "ipython",
    "version": 3
   },
   "file_extension": ".py",
   "mimetype": "text/x-python",
   "name": "python",
   "nbconvert_exporter": "python",
   "pygments_lexer": "ipython3",
   "version": "3.7.2"
  }
 },
 "nbformat": 4,
 "nbformat_minor": 2
}
