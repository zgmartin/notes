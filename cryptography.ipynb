{
 "cells": [
  {
   "cell_type": "markdown",
   "metadata": {},
   "source": [
    "# Private Key Encription\n",
    "\n",
    "Sender and reciver agree on a _secret encodeing_\n",
    "\n",
    "Ceasar Cypher: letters of alphabet are shifted by an amount."
   ]
  },
  {
   "cell_type": "code",
   "execution_count": 114,
   "metadata": {},
   "outputs": [],
   "source": [
    "def ceasar_cypher(text):\n",
    "    alphabet = 'abcdefghijklmnopqrstuvwxyz '\n",
    "    mapping = dict([(character, position) for position, character in enumerate(alphabet)])\n",
    "    mapping = [(mapping[character] + 4) % len(alphabet) for character in text]\n",
    "    cypher_text = ''.join([alphabet[index] for index in mapping])\n",
    "    return cypher_text"
   ]
  },
  {
   "cell_type": "code",
   "execution_count": 115,
   "metadata": {},
   "outputs": [
    {
     "data": {
      "text/plain": [
       "'eppd svoderhdrsdtpebdqeoiwdwerhbdedhyppdkmvp'"
      ]
     },
     "execution_count": 115,
     "metadata": {},
     "output_type": "execute_result"
    }
   ],
   "source": [
    "ceasar_cypher('all work and no play makes sandy a dull girl')"
   ]
  },
  {
   "cell_type": "code",
   "execution_count": 2,
   "metadata": {},
   "outputs": [],
   "source": [
    "import random\n",
    "def ceasar_cypher(text):\n",
    "    alphabet = 'abcdefghijklmnopqrstuvwxyz '\n",
    "    print('alphabet:', alphabet)\n",
    "    mapping = dict([(character, position) for position, character in enumerate(alphabet)])\n",
    "    key = list(alphabet)\n",
    "    random.shuffle(key)\n",
    "    key = ''.join(key)\n",
    "    print('key:  ', key, '\\n')\n",
    "    print('text:      ', text)\n",
    "    encryption = ''.join([key[mapping[character]] for character in text])\n",
    "    print('encryption:', encryption)"
   ]
  },
  {
   "cell_type": "code",
   "execution_count": 3,
   "metadata": {},
   "outputs": [
    {
     "name": "stdout",
     "output_type": "stream",
     "text": [
      "alphabet: abcdefghijklmnopqrstuvwxyz \n",
      "cypher:   wagv mrfceysqjnzlbotixkuhpd \n",
      "\n",
      "text:       felix and the lizard people will take over the world\n",
      "encryption: m scudwjvdtf dscpwbvdz nzs dkcssdtwy dnx bdtf dknbsv\n"
     ]
    }
   ],
   "source": [
    "ceasar_cypher('felix and the lizard people will take over the world')\n"
   ]
  },
  {
   "cell_type": "code",
   "execution_count": null,
   "metadata": {},
   "outputs": [],
   "source": [
    "#Public Key Encription"
   ]
  }
 ],
 "metadata": {
  "kernelspec": {
   "display_name": "Python 3",
   "language": "python",
   "name": "python3"
  },
  "language_info": {
   "codemirror_mode": {
    "name": "ipython",
    "version": 3
   },
   "file_extension": ".py",
   "mimetype": "text/x-python",
   "name": "python",
   "nbconvert_exporter": "python",
   "pygments_lexer": "ipython3",
   "version": "3.6.2"
  }
 },
 "nbformat": 4,
 "nbformat_minor": 2
}
