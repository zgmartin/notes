{
 "cells": [
  {
   "cell_type": "markdown",
   "metadata": {},
   "source": [
    "# Summarize this dataset\n",
    "\n",
    "* The actual analytics and metrics are left up to your discretion.\n",
    "* This problem is left intentionally unstructured, so just include a file or notebook that describes quantitatively what this dataset contains."
   ]
  },
  {
   "cell_type": "code",
   "execution_count": 2,
   "metadata": {},
   "outputs": [],
   "source": [
    "import pandas "
   ]
  },
  {
   "cell_type": "code",
   "execution_count": null,
   "metadata": {},
   "outputs": [],
   "source": [
    "data = pandas.read_csv('2015StreetTreesCensus_TREES.csv')\n",
    "data = data.__next__()"
   ]
  },
  {
   "cell_type": "code",
   "execution_count": 8,
   "metadata": {},
   "outputs": [
    {
     "data": {
      "text/plain": [
       "683788"
      ]
     },
     "execution_count": 8,
     "metadata": {},
     "output_type": "execute_result"
    }
   ],
   "source": [
    "for col in data.columns:\n",
    "    print(col)"
   ]
  },
  {
   "cell_type": "markdown",
   "metadata": {},
   "source": [
    "# Agregation \n",
    "\n",
    "* Write code that will display the number of alive trees by species name (common) and by borough. \n",
    "* Include totals and percent of totals."
   ]
  },
  {
   "cell_type": "code",
   "execution_count": 70,
   "metadata": {},
   "outputs": [],
   "source": [
    "living_trees = data.loc[data['status'] == 'Alive']\n",
    "totals = living_trees.groupby(['spc_latin','boroname'])['status'].count()"
   ]
  },
  {
   "cell_type": "code",
   "execution_count": 71,
   "metadata": {},
   "outputs": [
    {
     "data": {
      "text/plain": [
       "spc_latin          boroname     \n",
       "Acer               Bronx             995\n",
       "                   Brooklyn          445\n",
       "                   Manhattan          37\n",
       "                   Queens           2992\n",
       "                   Staten Island    2611\n",
       "Acer buergerianum  Bronx               7\n",
       "                   Brooklyn           12\n",
       "                   Queens             68\n",
       "                   Staten Island      23\n",
       "Acer campestre     Bronx             798\n",
       "                   Brooklyn          578\n",
       "                   Manhattan          23\n",
       "                   Queens            675\n",
       "                   Staten Island     476\n",
       "Acer ginnala       Bronx             431\n",
       "                   Brooklyn          263\n",
       "                   Manhattan          30\n",
       "                   Queens            671\n",
       "                   Staten Island     654\n",
       "Acer griseum       Bronx              35\n",
       "                   Brooklyn           59\n",
       "                   Manhattan          15\n",
       "                   Queens             73\n",
       "                   Staten Island      38\n",
       "Acer negundo       Bronx              17\n",
       "                   Brooklyn           14\n",
       "                   Manhattan           2\n",
       "                   Queens             15\n",
       "                   Staten Island      16\n",
       "Acer nigrum        Bronx              14\n",
       "                                    ... \n",
       "Tilia tomentosa    Bronx             670\n",
       "                   Brooklyn         2373\n",
       "                   Manhattan         541\n",
       "                   Queens           4146\n",
       "                   Staten Island     265\n",
       "Tsuga canadensis   Bronx               7\n",
       "                   Brooklyn           33\n",
       "                   Manhattan           7\n",
       "                   Queens             25\n",
       "                   Staten Island      16\n",
       "Ulmus americana    Bronx            1471\n",
       "                   Brooklyn         2587\n",
       "                   Manhattan        1698\n",
       "                   Queens           1709\n",
       "                   Staten Island     510\n",
       "Ulmus parvifolia   Bronx            1321\n",
       "                   Brooklyn         1593\n",
       "                   Manhattan         785\n",
       "                   Queens           1020\n",
       "                   Staten Island     626\n",
       "Ulmus pumila       Bronx             392\n",
       "                   Brooklyn          507\n",
       "                   Manhattan         156\n",
       "                   Queens            340\n",
       "                   Staten Island     200\n",
       "Zelkova serrata    Bronx            4638\n",
       "                   Brooklyn         9659\n",
       "                   Manhattan        3596\n",
       "                   Queens           8987\n",
       "                   Staten Island    2378\n",
       "Name: status, Length: 655, dtype: int64"
      ]
     },
     "execution_count": 71,
     "metadata": {},
     "output_type": "execute_result"
    }
   ],
   "source": [
    "totals"
   ]
  },
  {
   "cell_type": "code",
   "execution_count": 72,
   "metadata": {},
   "outputs": [
    {
     "data": {
      "text/plain": [
       "spc_latin          boroname     \n",
       "Acer               Bronx            0.152568\n",
       "                   Brooklyn         0.068234\n",
       "                   Manhattan        0.005673\n",
       "                   Queens           0.458777\n",
       "                   Staten Island    0.400356\n",
       "Acer buergerianum  Bronx            0.001073\n",
       "                   Brooklyn         0.001840\n",
       "                   Queens           0.010427\n",
       "                   Staten Island    0.003527\n",
       "Acer campestre     Bronx            0.122361\n",
       "                   Brooklyn         0.088627\n",
       "                   Manhattan        0.003527\n",
       "                   Queens           0.103501\n",
       "                   Staten Island    0.072987\n",
       "Acer ginnala       Bronx            0.066087\n",
       "                   Brooklyn         0.040327\n",
       "                   Manhattan        0.004600\n",
       "                   Queens           0.102887\n",
       "                   Staten Island    0.100281\n",
       "Acer griseum       Bronx            0.005367\n",
       "                   Brooklyn         0.009047\n",
       "                   Manhattan        0.002300\n",
       "                   Queens           0.011193\n",
       "                   Staten Island    0.005827\n",
       "Acer negundo       Bronx            0.002607\n",
       "                   Brooklyn         0.002147\n",
       "                   Manhattan        0.000307\n",
       "                   Queens           0.002300\n",
       "                   Staten Island    0.002453\n",
       "Acer nigrum        Bronx            0.002147\n",
       "                                      ...   \n",
       "Tilia tomentosa    Bronx            0.102734\n",
       "                   Brooklyn         0.363863\n",
       "                   Manhattan        0.082954\n",
       "                   Queens           0.635725\n",
       "                   Staten Island    0.040634\n",
       "Tsuga canadensis   Bronx            0.001073\n",
       "                   Brooklyn         0.005060\n",
       "                   Manhattan        0.001073\n",
       "                   Queens           0.003833\n",
       "                   Staten Island    0.002453\n",
       "Ulmus americana    Bronx            0.225555\n",
       "                   Brooklyn         0.396676\n",
       "                   Manhattan        0.260362\n",
       "                   Queens           0.262049\n",
       "                   Staten Island    0.078201\n",
       "Ulmus parvifolia   Bronx            0.202555\n",
       "                   Brooklyn         0.244262\n",
       "                   Manhattan        0.120368\n",
       "                   Queens           0.156401\n",
       "                   Staten Island    0.095987\n",
       "Ulmus pumila       Bronx            0.060107\n",
       "                   Brooklyn         0.077741\n",
       "                   Manhattan        0.023920\n",
       "                   Queens           0.052134\n",
       "                   Staten Island    0.030667\n",
       "Zelkova serrata    Bronx            0.711165\n",
       "                   Brooklyn         1.481058\n",
       "                   Manhattan        0.551391\n",
       "                   Queens           1.378017\n",
       "                   Staten Island    0.364629\n",
       "Name: status, Length: 655, dtype: float64"
      ]
     },
     "execution_count": 72,
     "metadata": {},
     "output_type": "execute_result"
    }
   ],
   "source": [
    "totals/sum(totals)*100"
   ]
  },
  {
   "cell_type": "markdown",
   "metadata": {},
   "source": [
    "# Tree Diameter Histogram\n",
    "\n",
    "* Create a histogram for tree_dbh (diameter of tree).\n",
    "* What is the 90% percentile diameter? \n",
    "* Create a visual depiction of this histogram."
   ]
  },
  {
   "cell_type": "code",
   "execution_count": 85,
   "metadata": {},
   "outputs": [],
   "source": [
    "import matplotlib.pyplot as plot"
   ]
  },
  {
   "cell_type": "code",
   "execution_count": 129,
   "metadata": {},
   "outputs": [
    {
     "data": {
      "text/plain": [
       "Text(0,0.5,'Frequency')"
      ]
     },
     "execution_count": 129,
     "metadata": {},
     "output_type": "execute_result"
    },
    {
     "data": {
      "image/png": "[encoded data removed]",
      "text/plain": [
       "<Figure size 432x288 with 1 Axes>"
      ]
     },
     "metadata": {
      "needs_background": "light"
     },
     "output_type": "display_data"
    }
   ],
   "source": [
    "plot.hist(data['tree_dbh'], bins=450)\n",
    "plot.xlabel('Tree Diameter')\n",
    "plot.ylabel('Frequency')"
   ]
  },
  {
   "cell_type": "code",
   "execution_count": 134,
   "metadata": {},
   "outputs": [
    {
     "data": {
      "text/plain": [
       "12"
      ]
     },
     "execution_count": 134,
     "metadata": {},
     "output_type": "execute_result"
    }
   ],
   "source": [
    "#90th percentile diameter\n",
    "diameters = data['tree_dbh']\n",
    "90/100 * len(diameters) + 1 \n",
    "diameters.sort_values()[615410]"
   ]
  },
  {
   "cell_type": "markdown",
   "metadata": {},
   "source": [
    "# Nearest Neigbor \n",
    "\n",
    "* Write a program to determine which tree(s) have the most number of neighboring trees within a 500 foot radius? Don’t use Pandas or Spark. \n",
    "* The objective is for you to demonstrate your ability to write an efficient program. \n",
    "* Describe the algorithm of choice, including the time complexity of your solution."
   ]
  },
  {
   "cell_type": "code",
   "execution_count": 171,
   "metadata": {},
   "outputs": [
    {
     "data": {
      "text/plain": [
       "<matplotlib.collections.PathCollection at 0x11dfd9320>"
      ]
     },
     "execution_count": 171,
     "metadata": {},
     "output_type": "execute_result"
    },
    {
     "data": {
      "image/png": "[encoded data removed]",
      "text/plain": [
       "<Figure size 432x288 with 1 Axes>"
      ]
     },
     "metadata": {
      "needs_background": "light"
     },
     "output_type": "display_data"
    }
   ],
   "source": [
    "plot.scatter(data['x_sp'], data['y_sp'])"
   ]
  },
  {
   "cell_type": "code",
   "execution_count": 172,
   "metadata": {},
   "outputs": [
    {
     "data": {
      "text/plain": [
       "153898.357556"
      ]
     },
     "execution_count": 172,
     "metadata": {},
     "output_type": "execute_result"
    }
   ],
   "source": [
    "max(data['x_sp']) - min(data['x_sp'])"
   ]
  },
  {
   "cell_type": "markdown",
   "metadata": {},
   "source": [
    "# K-D Tree\n",
    "\n",
    "* chosen for its simplistiy and speed in partitioning the search space in log(n) time\n",
    "* this algorithm buckets the points inside of a bounding box\n",
    "* bilding the tree log(n)\n",
    "* inserting n\n"
   ]
  },
  {
   "cell_type": "code",
   "execution_count": 4,
   "metadata": {},
   "outputs": [],
   "source": [
    "class Node:\n",
    "    def __init__(self, level=0, value=None):\n",
    "        self.level = level\n",
    "        self.value = value\n",
    "        self.edges = (None, None)"
   ]
  },
  {
   "cell_type": "code",
   "execution_count": 21,
   "metadata": {},
   "outputs": [],
   "source": [
    "class KDTree:\n",
    "    def __init__(self, x, y, radius):\n",
    "        self.size = 0\n",
    "        self.radius = radius\n",
    "        self.tree = Node()\n",
    "        self.tree.value = x[len(x)//2]\n",
    "        self.construct(self.tree, x, y)\n",
    "\n",
    "    def add_node(self, level, data):\n",
    "        if len(data) > 3:\n",
    "            value = data[len(data)//2]\n",
    "            return Node(level, value)\n",
    "        else: return []\n",
    "\n",
    "    def construct(self, node, x, y):\n",
    "        if node:\n",
    "            level = node.level + 1\n",
    "            if level % 2:\n",
    "                midpoint = len(x)//2\n",
    "                left, right = x[:midpoint], x[midpoint:]\n",
    "                node.edges = self.construct(self.add_node(level, left), left, y), self.construct(self.add_node(level, right), right, y)\n",
    "            else:\n",
    "                midpoint = len(y)//2\n",
    "                down, up = y[:midpoint], y[midpoint:]\n",
    "                node.edges = self.construct(self.add_node(level, down), x, down), self.construct(self.add_node(level, up), x, up)\n",
    "        return node\n",
    "\n",
    "    def bin_points(self, points):\n",
    "        bins = {}\n",
    "        for point in points:\n",
    "            bins[str(point)] = 0\n",
    "            node = self.tree\n",
    "            while type(node) != type([]):\n",
    "                value = point[node.level % 2]\n",
    "                if value <= node.value + self.radius and value > node.value - self.radius:\n",
    "                    bins[str(point)] += 1\n",
    "                if value < node.value:\n",
    "                    node = node.edges[0]\n",
    "                else:\n",
    "                    node = node.edges[1]\n",
    "\n",
    "        return bins"
   ]
  },
  {
   "cell_type": "code",
   "execution_count": null,
   "metadata": {},
   "outputs": [],
   "source": [
    "x = tuple(data['x_sp'])\n",
    "y = tuple(data['y_sp'])\n",
    "tree = KDTree(x, y, 500)\n",
    "points = zip(x,y)\n",
    "bins = tree.bin_points(points)\n",
    "max_value = max(bins.values())  # maximum value\n",
    "max_keys = [k for k, v in bins.items() if v == max_value]\n",
    "print(max_keys)"
   ]
  },
  {
   "cell_type": "markdown",
   "metadata": {},
   "source": [
    "# KD TEST"
   ]
  },
  {
   "cell_type": "code",
   "execution_count": null,
   "metadata": {},
   "outputs": [],
   "source": [
    "class Node:\n",
    "    def __init__(self, level=0, value=None):\n",
    "        self.level = level\n",
    "        self.value = value\n",
    "        self.edges = (None, None)\n",
    "\n",
    "class KDTree:\n",
    "    def __init__(self, x, y, radius):\n",
    "        self.size = 0\n",
    "        self.radius = radius\n",
    "        self.tree = Node()\n",
    "        self.tree.value = x[len(x)//2]\n",
    "        self.construct(self.tree, x, y)\n",
    "\n",
    "    def add_node(self, level, data):\n",
    "        if len(data) > 3:\n",
    "            value = data[len(data)//2]\n",
    "            return Node(level, value)\n",
    "        else: return []\n",
    "\n",
    "    def construct(self, node, x, y):\n",
    "        if node:\n",
    "            level = node.level + 1\n",
    "            if level % 2:\n",
    "                midpoint = len(x)//2\n",
    "                left, right = x[:midpoint], x[midpoint:]\n",
    "                node.edges = self.construct(self.add_node(level, left), left, y), self.construct(self.add_node(level, right), right, y)\n",
    "            else:\n",
    "                midpoint = len(y)//2\n",
    "                down, up = y[:midpoint], y[midpoint:]\n",
    "                node.edges = self.construct(self.add_node(level, down), x, down), self.construct(self.add_node(level, up), x, up)\n",
    "        return node\n",
    "\n",
    "    def bin_points(self, points):\n",
    "        bins = {}\n",
    "        for point in points:\n",
    "            bins[str(point)] = 0\n",
    "            node = self.tree\n",
    "            while type(node) != type([]):\n",
    "                value = point[node.level % 2]\n",
    "                if value <= node.value + self.radius and value > node.value - self.radius:\n",
    "                    bins[str(point)] += 1\n",
    "                if value < node.value:\n",
    "                    node = node.edges[0]\n",
    "                else:\n",
    "                    node = node.edges[1]\n",
    "\n",
    "        return bins\n",
    "\n",
    "import pandas\n",
    "data = pandas.read_csv('~/Downloads/2015StreetTreesCensus_TREES.csv')\n",
    "x = tuple(data['x_sp'])\n",
    "y = tuple(data['y_sp'])\n",
    "tree = KDTree(x, y, 500)\n",
    "points = zip(x,y)\n",
    "bins = tree.bin_points(points)\n",
    "max_value = max(bins.values())  # maximum value\n",
    "max_keys = [k for k, v in bins.items() if v == max_value]\n",
    "print(max_keys)"
   ]
  }
 ],
 "metadata": {
  "kernelspec": {
   "display_name": "Python 3",
   "language": "python",
   "name": "python3"
  },
  "language_info": {
   "codemirror_mode": {
    "name": "ipython",
    "version": 3
   },
   "file_extension": ".py",
   "mimetype": "text/x-python",
   "name": "python",
   "nbconvert_exporter": "python",
   "pygments_lexer": "ipython3",
   "version": "3.6.2"
  }
 },
 "nbformat": 4,
 "nbformat_minor": 2
}
