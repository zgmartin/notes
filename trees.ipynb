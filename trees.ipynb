{
 "cells": [
  {
   "cell_type": "markdown",
   "metadata": {},
   "source": [
    "# Summarize this dataset\n",
    "\n",
    "* The actual analytics and metrics are left up to your discretion.\n",
    "* This problem is left intentionally unstructured, so just include a file or notebook that describes quantitatively what this dataset contains."
   ]
  },
  {
   "cell_type": "code",
   "execution_count": 1,
   "metadata": {},
   "outputs": [],
   "source": [
    "import pandas "
   ]
  },
  {
   "cell_type": "code",
   "execution_count": 3,
   "metadata": {},
   "outputs": [],
   "source": [
    "data = pandas.read_csv('2015StreetTreesCensus_TREES.csv')"
   ]
  },
  {
   "cell_type": "code",
   "execution_count": 8,
   "metadata": {},
   "outputs": [
    {
     "data": {
      "text/plain": [
       "683788"
      ]
     },
     "execution_count": 8,
     "metadata": {},
     "output_type": "execute_result"
    }
   ],
   "source": [
    "for col in data.columns:\n",
    "    print(col)"
   ]
  },
  {
   "cell_type": "markdown",
   "metadata": {},
   "source": [
    "# Agregation \n",
    "\n",
    "* Write code that will display the number of alive trees by species name (common) and by borough. \n",
    "* Include totals and percent of totals."
   ]
  },
  {
   "cell_type": "code",
   "execution_count": 70,
   "metadata": {},
   "outputs": [],
   "source": [
    "living_trees = data.loc[data['status'] == 'Alive']\n",
    "totals = living_trees.groupby(['spc_latin','boroname'])['status'].count()"
   ]
  },
  {
   "cell_type": "code",
   "execution_count": 71,
   "metadata": {},
   "outputs": [
    {
     "data": {
      "text/plain": [
       "spc_latin          boroname     \n",
       "Acer               Bronx             995\n",
       "                   Brooklyn          445\n",
       "                   Manhattan          37\n",
       "                   Queens           2992\n",
       "                   Staten Island    2611\n",
       "Acer buergerianum  Bronx               7\n",
       "                   Brooklyn           12\n",
       "                   Queens             68\n",
       "                   Staten Island      23\n",
       "Acer campestre     Bronx             798\n",
       "                   Brooklyn          578\n",
       "                   Manhattan          23\n",
       "                   Queens            675\n",
       "                   Staten Island     476\n",
       "Acer ginnala       Bronx             431\n",
       "                   Brooklyn          263\n",
       "                   Manhattan          30\n",
       "                   Queens            671\n",
       "                   Staten Island     654\n",
       "Acer griseum       Bronx              35\n",
       "                   Brooklyn           59\n",
       "                   Manhattan          15\n",
       "                   Queens             73\n",
       "                   Staten Island      38\n",
       "Acer negundo       Bronx              17\n",
       "                   Brooklyn           14\n",
       "                   Manhattan           2\n",
       "                   Queens             15\n",
       "                   Staten Island      16\n",
       "Acer nigrum        Bronx              14\n",
       "                                    ... \n",
       "Tilia tomentosa    Bronx             670\n",
       "                   Brooklyn         2373\n",
       "                   Manhattan         541\n",
       "                   Queens           4146\n",
       "                   Staten Island     265\n",
       "Tsuga canadensis   Bronx               7\n",
       "                   Brooklyn           33\n",
       "                   Manhattan           7\n",
       "                   Queens             25\n",
       "                   Staten Island      16\n",
       "Ulmus americana    Bronx            1471\n",
       "                   Brooklyn         2587\n",
       "                   Manhattan        1698\n",
       "                   Queens           1709\n",
       "                   Staten Island     510\n",
       "Ulmus parvifolia   Bronx            1321\n",
       "                   Brooklyn         1593\n",
       "                   Manhattan         785\n",
       "                   Queens           1020\n",
       "                   Staten Island     626\n",
       "Ulmus pumila       Bronx             392\n",
       "                   Brooklyn          507\n",
       "                   Manhattan         156\n",
       "                   Queens            340\n",
       "                   Staten Island     200\n",
       "Zelkova serrata    Bronx            4638\n",
       "                   Brooklyn         9659\n",
       "                   Manhattan        3596\n",
       "                   Queens           8987\n",
       "                   Staten Island    2378\n",
       "Name: status, Length: 655, dtype: int64"
      ]
     },
     "execution_count": 71,
     "metadata": {},
     "output_type": "execute_result"
    }
   ],
   "source": [
    "totals"
   ]
  },
  {
   "cell_type": "code",
   "execution_count": 72,
   "metadata": {},
   "outputs": [
    {
     "data": {
      "text/plain": [
       "spc_latin          boroname     \n",
       "Acer               Bronx            0.152568\n",
       "                   Brooklyn         0.068234\n",
       "                   Manhattan        0.005673\n",
       "                   Queens           0.458777\n",
       "                   Staten Island    0.400356\n",
       "Acer buergerianum  Bronx            0.001073\n",
       "                   Brooklyn         0.001840\n",
       "                   Queens           0.010427\n",
       "                   Staten Island    0.003527\n",
       "Acer campestre     Bronx            0.122361\n",
       "                   Brooklyn         0.088627\n",
       "                   Manhattan        0.003527\n",
       "                   Queens           0.103501\n",
       "                   Staten Island    0.072987\n",
       "Acer ginnala       Bronx            0.066087\n",
       "                   Brooklyn         0.040327\n",
       "                   Manhattan        0.004600\n",
       "                   Queens           0.102887\n",
       "                   Staten Island    0.100281\n",
       "Acer griseum       Bronx            0.005367\n",
       "                   Brooklyn         0.009047\n",
       "                   Manhattan        0.002300\n",
       "                   Queens           0.011193\n",
       "                   Staten Island    0.005827\n",
       "Acer negundo       Bronx            0.002607\n",
       "                   Brooklyn         0.002147\n",
       "                   Manhattan        0.000307\n",
       "                   Queens           0.002300\n",
       "                   Staten Island    0.002453\n",
       "Acer nigrum        Bronx            0.002147\n",
       "                                      ...   \n",
       "Tilia tomentosa    Bronx            0.102734\n",
       "                   Brooklyn         0.363863\n",
       "                   Manhattan        0.082954\n",
       "                   Queens           0.635725\n",
       "                   Staten Island    0.040634\n",
       "Tsuga canadensis   Bronx            0.001073\n",
       "                   Brooklyn         0.005060\n",
       "                   Manhattan        0.001073\n",
       "                   Queens           0.003833\n",
       "                   Staten Island    0.002453\n",
       "Ulmus americana    Bronx            0.225555\n",
       "                   Brooklyn         0.396676\n",
       "                   Manhattan        0.260362\n",
       "                   Queens           0.262049\n",
       "                   Staten Island    0.078201\n",
       "Ulmus parvifolia   Bronx            0.202555\n",
       "                   Brooklyn         0.244262\n",
       "                   Manhattan        0.120368\n",
       "                   Queens           0.156401\n",
       "                   Staten Island    0.095987\n",
       "Ulmus pumila       Bronx            0.060107\n",
       "                   Brooklyn         0.077741\n",
       "                   Manhattan        0.023920\n",
       "                   Queens           0.052134\n",
       "                   Staten Island    0.030667\n",
       "Zelkova serrata    Bronx            0.711165\n",
       "                   Brooklyn         1.481058\n",
       "                   Manhattan        0.551391\n",
       "                   Queens           1.378017\n",
       "                   Staten Island    0.364629\n",
       "Name: status, Length: 655, dtype: float64"
      ]
     },
     "execution_count": 72,
     "metadata": {},
     "output_type": "execute_result"
    }
   ],
   "source": [
    "totals/sum(totals)*100"
   ]
  },
  {
   "cell_type": "markdown",
   "metadata": {},
   "source": [
    "# Tree Diameter Histogram\n",
    "\n",
    "* Create a histogram for tree_dbh (diameter of tree).\n",
    "* What is the 90% percentile diameter? \n",
    "* Create a visual depiction of this histogram."
   ]
  },
  {
   "cell_type": "code",
   "execution_count": 85,
   "metadata": {},
   "outputs": [],
   "source": [
    "import matplotlib.pyplot as plot"
   ]
  },
  {
   "cell_type": "code",
   "execution_count": 129,
   "metadata": {},
   "outputs": [
    {
     "data": {
      "text/plain": [
       "Text(0,0.5,'Frequency')"
      ]
     },
     "execution_count": 129,
     "metadata": {},
     "output_type": "execute_result"
    },
    {
     "data": {
      "image/png": "[encoded data removed]",
      "text/plain": [
       "<Figure size 432x288 with 1 Axes>"
      ]
     },
     "metadata": {
      "needs_background": "light"
     },
     "output_type": "display_data"
    }
   ],
   "source": [
    "plot.hist(data['tree_dbh'], bins=450)\n",
    "plot.xlabel('Tree Diameter')\n",
    "plot.ylabel('Frequency')"
   ]
  },
  {
   "cell_type": "code",
   "execution_count": 134,
   "metadata": {},
   "outputs": [
    {
     "data": {
      "text/plain": [
       "12"
      ]
     },
     "execution_count": 134,
     "metadata": {},
     "output_type": "execute_result"
    }
   ],
   "source": [
    "#90th percentile diameter\n",
    "diameters = data['tree_dbh']\n",
    "90/100 * len(diameters) + 1 \n",
    "diameters.sort_values()[615410]"
   ]
  },
  {
   "cell_type": "markdown",
   "metadata": {},
   "source": [
    "# Nearest Neigbor \n",
    "\n",
    "* Write a program to determine which tree(s) have the most number of neighboring trees within a 500 foot radius? Don’t use Pandas or Spark. \n",
    "* The objective is for you to demonstrate your ability to write an efficient program. \n",
    "* Describe the algorithm of choice, including the time complexity of your solution."
   ]
  },
  {
   "cell_type": "code",
   "execution_count": 171,
   "metadata": {},
   "outputs": [
    {
     "data": {
      "text/plain": [
       "<matplotlib.collections.PathCollection at 0x11dfd9320>"
      ]
     },
     "execution_count": 171,
     "metadata": {},
     "output_type": "execute_result"
    },
    {
     "data": {
      "image/png": "[encoded data removed]",
      "text/plain": [
       "<Figure size 432x288 with 1 Axes>"
      ]
     },
     "metadata": {
      "needs_background": "light"
     },
     "output_type": "display_data"
    }
   ],
   "source": [
    "plot.scatter(data['x_sp'], data['y_sp'])"
   ]
  },
  {
   "cell_type": "code",
   "execution_count": 172,
   "metadata": {},
   "outputs": [
    {
     "data": {
      "text/plain": [
       "153898.357556"
      ]
     },
     "execution_count": 172,
     "metadata": {},
     "output_type": "execute_result"
    }
   ],
   "source": [
    "max(data['x_sp']) - min(data['x_sp'])"
   ]
  },
  {
   "cell_type": "markdown",
   "metadata": {},
   "source": [
    "# K-D Tree\n",
    "\n",
    "* chosen for its simplistiy and speed in partitioning the search space in log(n) time\n",
    "* this algorithm buckets the points inside of a bounding box\n",
    "* bilding the tree log(n)\n",
    "* inserting n\n"
   ]
  },
  {
   "cell_type": "code",
   "execution_count": 4,
   "metadata": {},
   "outputs": [],
   "source": [
    "class Node:\n",
    "    def __init__(self, level=0, value=None):\n",
    "        self.level = level\n",
    "        self.value = value\n",
    "        self.edges = (None, None)"
   ]
  },
  {
   "cell_type": "code",
   "execution_count": 21,
   "metadata": {},
   "outputs": [],
   "source": [
    "class KDTree:\n",
    "    def __init__(self, x, y, radius):\n",
    "        self.size = 0\n",
    "        self.radius = radius\n",
    "        self.tree = Node()\n",
    "        self.tree.value = x[len(x)//2]\n",
    "        self.construct(self.tree, x, y)\n",
    "\n",
    "    def add_node(self, level, data):\n",
    "        if len(data) > 3:\n",
    "            value = data[len(data)//2]\n",
    "            return Node(level, value)\n",
    "        else: return []\n",
    "\n",
    "    def construct(self, node, x, y):\n",
    "        if node:\n",
    "            level = node.level + 1\n",
    "            if level % 2:\n",
    "                midpoint = len(x)//2\n",
    "                left, right = x[:midpoint], x[midpoint:]\n",
    "                node.edges = self.construct(self.add_node(level, left), left, y), self.construct(self.add_node(level, right), right, y)\n",
    "            else:\n",
    "                midpoint = len(y)//2\n",
    "                down, up = y[:midpoint], y[midpoint:]\n",
    "                node.edges = self.construct(self.add_node(level, down), x, down), self.construct(self.add_node(level, up), x, up)\n",
    "        return node\n",
    "\n",
    "    def bin_points(self, points):\n",
    "        bins = {}\n",
    "        for point in points:\n",
    "            bins[str(point)] = 0\n",
    "            node = self.tree\n",
    "            while type(node) != type([]):\n",
    "                value = point[node.level % 2]\n",
    "                if value <= node.value + self.radius and value > node.value - self.radius:\n",
    "                    bins[str(point)] += 1\n",
    "                if value < node.value:\n",
    "                    node = node.edges[0]\n",
    "                else:\n",
    "                    node = node.edges[1]\n",
    "\n",
    "        return bins"
   ]
  },
  {
   "cell_type": "code",
   "execution_count": null,
   "metadata": {},
   "outputs": [],
   "source": [
    "x = tuple(data['x_sp'])\n",
    "y = tuple(data['y_sp'])\n",
    "tree = KDTree(x, y, 500)\n",
    "points = zip(x,y)\n",
    "bins = tree.bin_points(points)\n",
    "max_value = max(bins.values())  # maximum value\n",
    "max_keys = [k for k, v in bins.items() if v == max_value]\n",
    "print(max_keys)"
   ]
  },
  {
   "cell_type": "markdown",
   "metadata": {},
   "source": [
    "# KD TEST"
   ]
  },
  {
   "cell_type": "code",
   "execution_count": null,
   "metadata": {},
   "outputs": [],
   "source": [
    "class Node:\n",
    "    def __init__(self, level=0, value=None):\n",
    "        self.level = level\n",
    "        self.value = value\n",
    "        self.edges = (None, None)\n",
    "\n",
    "class KDTree:\n",
    "    def __init__(self, x, y, radius):\n",
    "        self.size = 0\n",
    "        self.radius = radius\n",
    "        self.tree = Node()\n",
    "        self.tree.value = x[len(x)//2]\n",
    "        self.construct(self.tree, x, y)\n",
    "\n",
    "    def add_node(self, level, data):\n",
    "        if len(data) > 3:\n",
    "            value = data[len(data)//2]\n",
    "            return Node(level, value)\n",
    "        else: return []\n",
    "\n",
    "    def construct(self, node, x, y):\n",
    "        if node:\n",
    "            level = node.level + 1\n",
    "            if level % 2:\n",
    "                midpoint = len(x)//2\n",
    "                left, right = x[:midpoint], x[midpoint:]\n",
    "                node.edges = self.construct(self.add_node(level, left), left, y), self.construct(self.add_node(level, right), right, y)\n",
    "            else:\n",
    "                midpoint = len(y)//2\n",
    "                down, up = y[:midpoint], y[midpoint:]\n",
    "                node.edges = self.construct(self.add_node(level, down), x, down), self.construct(self.add_node(level, up), x, up)\n",
    "        return node\n",
    "\n",
    "    def bin_points(self, points):\n",
    "        bins = {}\n",
    "        for point in points:\n",
    "            bins[str(point)] = 0\n",
    "            node = self.tree\n",
    "            while type(node) != type([]):\n",
    "                value = point[node.level % 2]\n",
    "                if value <= node.value + self.radius and value > node.value - self.radius:\n",
    "                    bins[str(point)] += 1\n",
    "                if value < node.value:\n",
    "                    node = node.edges[0]\n",
    "                else:\n",
    "                    node = node.edges[1]\n",
    "\n",
    "        return bins\n",
    "\n",
    "import pandas\n",
    "data = pandas.read_csv('~/Downloads/2015StreetTreesCensus_TREES.csv')\n",
    "x = tuple(data['x_sp'])\n",
    "y = tuple(data['y_sp'])\n",
    "tree = KDTree(x, y, 500)\n",
    "points = zip(x,y)\n",
    "bins = tree.bin_points(points)\n",
    "max_value = max(bins.values())  # maximum value\n",
    "max_keys = [k for k, v in bins.items() if v == max_value]\n",
    "print(max_keys)"
   ]
  },
  {
   "cell_type": "code",
   "execution_count": 15,
   "metadata": {},
   "outputs": [
    {
     "data": {
      "text/html": [
       "<div>\n",
       "<style scoped>\n",
       "    .dataframe tbody tr th:only-of-type {\n",
       "        vertical-align: middle;\n",
       "    }\n",
       "\n",
       "    .dataframe tbody tr th {\n",
       "        vertical-align: top;\n",
       "    }\n",
       "\n",
       "    .dataframe thead th {\n",
       "        text-align: right;\n",
       "    }\n",
       "</style>\n",
       "<table border=\"1\" class=\"dataframe\">\n",
       "  <thead>\n",
       "    <tr style=\"text-align: right;\">\n",
       "      <th></th>\n",
       "      <th>created_at</th>\n",
       "      <th>tree_id</th>\n",
       "      <th>block_id</th>\n",
       "      <th>the_geom</th>\n",
       "      <th>tree_dbh</th>\n",
       "      <th>stump_diam</th>\n",
       "      <th>curb_loc</th>\n",
       "      <th>status</th>\n",
       "      <th>health</th>\n",
       "      <th>spc_latin</th>\n",
       "      <th>...</th>\n",
       "      <th>st_assem</th>\n",
       "      <th>st_senate</th>\n",
       "      <th>nta</th>\n",
       "      <th>nta_name</th>\n",
       "      <th>boro_ct</th>\n",
       "      <th>state</th>\n",
       "      <th>Latitude</th>\n",
       "      <th>longitude</th>\n",
       "      <th>x_sp</th>\n",
       "      <th>y_sp</th>\n",
       "    </tr>\n",
       "  </thead>\n",
       "  <tbody>\n",
       "    <tr>\n",
       "      <th>0</th>\n",
       "      <td>08/27/2015</td>\n",
       "      <td>180683</td>\n",
       "      <td>348711</td>\n",
       "      <td>POINT (-73.84421521958048 40.723091773924274)</td>\n",
       "      <td>3</td>\n",
       "      <td>0</td>\n",
       "      <td>OnCurb</td>\n",
       "      <td>Alive</td>\n",
       "      <td>Fair</td>\n",
       "      <td>Acer rubrum</td>\n",
       "      <td>...</td>\n",
       "      <td>28</td>\n",
       "      <td>16</td>\n",
       "      <td>QN17</td>\n",
       "      <td>Forest Hills</td>\n",
       "      <td>4073900</td>\n",
       "      <td>New York</td>\n",
       "      <td>40.723092</td>\n",
       "      <td>-73.844215</td>\n",
       "      <td>1.027431e+06</td>\n",
       "      <td>202756.768749</td>\n",
       "    </tr>\n",
       "    <tr>\n",
       "      <th>1</th>\n",
       "      <td>09/03/2015</td>\n",
       "      <td>200540</td>\n",
       "      <td>315986</td>\n",
       "      <td>POINT (-73.81867945834878 40.79411066708779)</td>\n",
       "      <td>21</td>\n",
       "      <td>0</td>\n",
       "      <td>OnCurb</td>\n",
       "      <td>Alive</td>\n",
       "      <td>Fair</td>\n",
       "      <td>Quercus palustris</td>\n",
       "      <td>...</td>\n",
       "      <td>27</td>\n",
       "      <td>11</td>\n",
       "      <td>QN49</td>\n",
       "      <td>Whitestone</td>\n",
       "      <td>4097300</td>\n",
       "      <td>New York</td>\n",
       "      <td>40.794111</td>\n",
       "      <td>-73.818679</td>\n",
       "      <td>1.034456e+06</td>\n",
       "      <td>228644.837379</td>\n",
       "    </tr>\n",
       "    <tr>\n",
       "      <th>2</th>\n",
       "      <td>09/05/2015</td>\n",
       "      <td>204026</td>\n",
       "      <td>218365</td>\n",
       "      <td>POINT (-73.93660770459083 40.717580740099116)</td>\n",
       "      <td>3</td>\n",
       "      <td>0</td>\n",
       "      <td>OnCurb</td>\n",
       "      <td>Alive</td>\n",
       "      <td>Good</td>\n",
       "      <td>Gleditsia triacanthos var. inermis</td>\n",
       "      <td>...</td>\n",
       "      <td>50</td>\n",
       "      <td>18</td>\n",
       "      <td>BK90</td>\n",
       "      <td>East Williamsburg</td>\n",
       "      <td>3044900</td>\n",
       "      <td>New York</td>\n",
       "      <td>40.717581</td>\n",
       "      <td>-73.936608</td>\n",
       "      <td>1.001823e+06</td>\n",
       "      <td>200716.891267</td>\n",
       "    </tr>\n",
       "    <tr>\n",
       "      <th>3</th>\n",
       "      <td>09/05/2015</td>\n",
       "      <td>204337</td>\n",
       "      <td>217969</td>\n",
       "      <td>POINT (-73.93445615919741 40.713537494833226)</td>\n",
       "      <td>10</td>\n",
       "      <td>0</td>\n",
       "      <td>OnCurb</td>\n",
       "      <td>Alive</td>\n",
       "      <td>Good</td>\n",
       "      <td>Gleditsia triacanthos var. inermis</td>\n",
       "      <td>...</td>\n",
       "      <td>53</td>\n",
       "      <td>18</td>\n",
       "      <td>BK90</td>\n",
       "      <td>East Williamsburg</td>\n",
       "      <td>3044900</td>\n",
       "      <td>New York</td>\n",
       "      <td>40.713537</td>\n",
       "      <td>-73.934456</td>\n",
       "      <td>1.002420e+06</td>\n",
       "      <td>199244.253136</td>\n",
       "    </tr>\n",
       "    <tr>\n",
       "      <th>4</th>\n",
       "      <td>08/30/2015</td>\n",
       "      <td>189565</td>\n",
       "      <td>223043</td>\n",
       "      <td>POINT (-73.97597938483258 40.66677775537875)</td>\n",
       "      <td>21</td>\n",
       "      <td>0</td>\n",
       "      <td>OnCurb</td>\n",
       "      <td>Alive</td>\n",
       "      <td>Good</td>\n",
       "      <td>Tilia americana</td>\n",
       "      <td>...</td>\n",
       "      <td>44</td>\n",
       "      <td>21</td>\n",
       "      <td>BK37</td>\n",
       "      <td>Park Slope-Gowanus</td>\n",
       "      <td>3016500</td>\n",
       "      <td>New York</td>\n",
       "      <td>40.666778</td>\n",
       "      <td>-73.975979</td>\n",
       "      <td>9.909138e+05</td>\n",
       "      <td>182202.425999</td>\n",
       "    </tr>\n",
       "    <tr>\n",
       "      <th>5</th>\n",
       "      <td>08/30/2015</td>\n",
       "      <td>190422</td>\n",
       "      <td>106099</td>\n",
       "      <td>POINT (-73.98494997200308 40.770045625891846)</td>\n",
       "      <td>11</td>\n",
       "      <td>0</td>\n",
       "      <td>OnCurb</td>\n",
       "      <td>Alive</td>\n",
       "      <td>Good</td>\n",
       "      <td>Gleditsia triacanthos var. inermis</td>\n",
       "      <td>...</td>\n",
       "      <td>67</td>\n",
       "      <td>27</td>\n",
       "      <td>MN14</td>\n",
       "      <td>Lincoln Square</td>\n",
       "      <td>1014500</td>\n",
       "      <td>New York</td>\n",
       "      <td>40.770046</td>\n",
       "      <td>-73.984950</td>\n",
       "      <td>9.884187e+05</td>\n",
       "      <td>219825.522669</td>\n",
       "    </tr>\n",
       "    <tr>\n",
       "      <th>6</th>\n",
       "      <td>08/30/2015</td>\n",
       "      <td>190426</td>\n",
       "      <td>106099</td>\n",
       "      <td>POINT (-73.98533807200513 40.77020969000546)</td>\n",
       "      <td>11</td>\n",
       "      <td>0</td>\n",
       "      <td>OnCurb</td>\n",
       "      <td>Alive</td>\n",
       "      <td>Good</td>\n",
       "      <td>Gleditsia triacanthos var. inermis</td>\n",
       "      <td>...</td>\n",
       "      <td>67</td>\n",
       "      <td>27</td>\n",
       "      <td>MN14</td>\n",
       "      <td>Lincoln Square</td>\n",
       "      <td>1014500</td>\n",
       "      <td>New York</td>\n",
       "      <td>40.770210</td>\n",
       "      <td>-73.985338</td>\n",
       "      <td>9.883112e+05</td>\n",
       "      <td>219885.278455</td>\n",
       "    </tr>\n",
       "    <tr>\n",
       "      <th>7</th>\n",
       "      <td>09/07/2015</td>\n",
       "      <td>208649</td>\n",
       "      <td>103940</td>\n",
       "      <td>POINT (-73.98729652382876 40.7627238542921)</td>\n",
       "      <td>9</td>\n",
       "      <td>0</td>\n",
       "      <td>OnCurb</td>\n",
       "      <td>Alive</td>\n",
       "      <td>Good</td>\n",
       "      <td>Tilia americana</td>\n",
       "      <td>...</td>\n",
       "      <td>75</td>\n",
       "      <td>27</td>\n",
       "      <td>MN15</td>\n",
       "      <td>Clinton</td>\n",
       "      <td>1012700</td>\n",
       "      <td>New York</td>\n",
       "      <td>40.762724</td>\n",
       "      <td>-73.987297</td>\n",
       "      <td>9.877691e+05</td>\n",
       "      <td>217157.856088</td>\n",
       "    </tr>\n",
       "    <tr>\n",
       "      <th>8</th>\n",
       "      <td>09/08/2015</td>\n",
       "      <td>209610</td>\n",
       "      <td>407443</td>\n",
       "      <td>POINT (-74.07625483097186 40.596579313729144)</td>\n",
       "      <td>6</td>\n",
       "      <td>0</td>\n",
       "      <td>OnCurb</td>\n",
       "      <td>Alive</td>\n",
       "      <td>Good</td>\n",
       "      <td>Gleditsia triacanthos var. inermis</td>\n",
       "      <td>...</td>\n",
       "      <td>64</td>\n",
       "      <td>23</td>\n",
       "      <td>SI14</td>\n",
       "      <td>Grasmere-Arrochar-Ft. Wadsworth</td>\n",
       "      <td>5006400</td>\n",
       "      <td>New York</td>\n",
       "      <td>40.596579</td>\n",
       "      <td>-74.076255</td>\n",
       "      <td>9.630732e+05</td>\n",
       "      <td>156635.554233</td>\n",
       "    </tr>\n",
       "    <tr>\n",
       "      <th>9</th>\n",
       "      <td>08/31/2015</td>\n",
       "      <td>192755</td>\n",
       "      <td>207508</td>\n",
       "      <td>POINT (-73.96974394191379 40.58635724735751)</td>\n",
       "      <td>21</td>\n",
       "      <td>0</td>\n",
       "      <td>OffsetFromCurb</td>\n",
       "      <td>Alive</td>\n",
       "      <td>Fair</td>\n",
       "      <td>Platanus x acerifolia</td>\n",
       "      <td>...</td>\n",
       "      <td>45</td>\n",
       "      <td>23</td>\n",
       "      <td>BK26</td>\n",
       "      <td>Gravesend</td>\n",
       "      <td>3037402</td>\n",
       "      <td>New York</td>\n",
       "      <td>40.586357</td>\n",
       "      <td>-73.969744</td>\n",
       "      <td>9.926537e+05</td>\n",
       "      <td>152903.630594</td>\n",
       "    </tr>\n",
       "  </tbody>\n",
       "</table>\n",
       "<p>10 rows × 42 columns</p>\n",
       "</div>"
      ],
      "text/plain": [
       "   created_at  tree_id  block_id  \\\n",
       "0  08/27/2015   180683    348711   \n",
       "1  09/03/2015   200540    315986   \n",
       "2  09/05/2015   204026    218365   \n",
       "3  09/05/2015   204337    217969   \n",
       "4  08/30/2015   189565    223043   \n",
       "5  08/30/2015   190422    106099   \n",
       "6  08/30/2015   190426    106099   \n",
       "7  09/07/2015   208649    103940   \n",
       "8  09/08/2015   209610    407443   \n",
       "9  08/31/2015   192755    207508   \n",
       "\n",
       "                                        the_geom  tree_dbh  stump_diam  \\\n",
       "0  POINT (-73.84421521958048 40.723091773924274)         3           0   \n",
       "1   POINT (-73.81867945834878 40.79411066708779)        21           0   \n",
       "2  POINT (-73.93660770459083 40.717580740099116)         3           0   \n",
       "3  POINT (-73.93445615919741 40.713537494833226)        10           0   \n",
       "4   POINT (-73.97597938483258 40.66677775537875)        21           0   \n",
       "5  POINT (-73.98494997200308 40.770045625891846)        11           0   \n",
       "6   POINT (-73.98533807200513 40.77020969000546)        11           0   \n",
       "7    POINT (-73.98729652382876 40.7627238542921)         9           0   \n",
       "8  POINT (-74.07625483097186 40.596579313729144)         6           0   \n",
       "9   POINT (-73.96974394191379 40.58635724735751)        21           0   \n",
       "\n",
       "         curb_loc status health                           spc_latin  \\\n",
       "0          OnCurb  Alive   Fair                         Acer rubrum   \n",
       "1          OnCurb  Alive   Fair                   Quercus palustris   \n",
       "2          OnCurb  Alive   Good  Gleditsia triacanthos var. inermis   \n",
       "3          OnCurb  Alive   Good  Gleditsia triacanthos var. inermis   \n",
       "4          OnCurb  Alive   Good                     Tilia americana   \n",
       "5          OnCurb  Alive   Good  Gleditsia triacanthos var. inermis   \n",
       "6          OnCurb  Alive   Good  Gleditsia triacanthos var. inermis   \n",
       "7          OnCurb  Alive   Good                     Tilia americana   \n",
       "8          OnCurb  Alive   Good  Gleditsia triacanthos var. inermis   \n",
       "9  OffsetFromCurb  Alive   Fair               Platanus x acerifolia   \n",
       "\n",
       "       ...       st_assem st_senate   nta                         nta_name  \\\n",
       "0      ...             28        16  QN17                     Forest Hills   \n",
       "1      ...             27        11  QN49                       Whitestone   \n",
       "2      ...             50        18  BK90                East Williamsburg   \n",
       "3      ...             53        18  BK90                East Williamsburg   \n",
       "4      ...             44        21  BK37               Park Slope-Gowanus   \n",
       "5      ...             67        27  MN14                   Lincoln Square   \n",
       "6      ...             67        27  MN14                   Lincoln Square   \n",
       "7      ...             75        27  MN15                          Clinton   \n",
       "8      ...             64        23  SI14  Grasmere-Arrochar-Ft. Wadsworth   \n",
       "9      ...             45        23  BK26                        Gravesend   \n",
       "\n",
       "   boro_ct     state   Latitude  longitude          x_sp           y_sp  \n",
       "0  4073900  New York  40.723092 -73.844215  1.027431e+06  202756.768749  \n",
       "1  4097300  New York  40.794111 -73.818679  1.034456e+06  228644.837379  \n",
       "2  3044900  New York  40.717581 -73.936608  1.001823e+06  200716.891267  \n",
       "3  3044900  New York  40.713537 -73.934456  1.002420e+06  199244.253136  \n",
       "4  3016500  New York  40.666778 -73.975979  9.909138e+05  182202.425999  \n",
       "5  1014500  New York  40.770046 -73.984950  9.884187e+05  219825.522669  \n",
       "6  1014500  New York  40.770210 -73.985338  9.883112e+05  219885.278455  \n",
       "7  1012700  New York  40.762724 -73.987297  9.877691e+05  217157.856088  \n",
       "8  5006400  New York  40.596579 -74.076255  9.630732e+05  156635.554233  \n",
       "9  3037402  New York  40.586357 -73.969744  9.926537e+05  152903.630594  \n",
       "\n",
       "[10 rows x 42 columns]"
      ]
     },
     "execution_count": 15,
     "metadata": {},
     "output_type": "execute_result"
    }
   ],
   "source": [
    "data[:10]"
   ]
  },
  {
   "cell_type": "code",
   "execution_count": 16,
   "metadata": {},
   "outputs": [
    {
     "data": {
      "text/plain": [
       "<seaborn.axisgrid.FacetGrid at 0x120c7a2b0>"
      ]
     },
     "execution_count": 16,
     "metadata": {},
     "output_type": "execute_result"
    },
    {
     "data": {
      "image/png": "[encoded data removed]",
      "text/plain": [
       "<Figure size 429.725x360 with 1 Axes>"
      ]
     },
     "metadata": {},
     "output_type": "display_data"
    }
   ],
   "source": [
    "seaborn.relplot(x='x_sp', y='y_sp', hue='health', data=data)"
   ]
  },
  {
   "cell_type": "code",
   "execution_count": null,
   "metadata": {},
   "outputs": [],
   "source": []
  }
 ],
 "metadata": {
  "kernelspec": {
   "display_name": "Python 3",
   "language": "python",
   "name": "python3"
  },
  "language_info": {
   "codemirror_mode": {
    "name": "ipython",
    "version": 3
   },
   "file_extension": ".py",
   "mimetype": "text/x-python",
   "name": "python",
   "nbconvert_exporter": "python",
   "pygments_lexer": "ipython3",
   "version": "3.6.2"
  }
 },
 "nbformat": 4,
 "nbformat_minor": 2
}
